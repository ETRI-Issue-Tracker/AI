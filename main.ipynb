{
 "cells": [
  {
   "cell_type": "code",
   "execution_count": 12,
   "id": "4ece6193-9080-49d2-924b-ab2b31f0f5ae",
   "metadata": {},
   "outputs": [
    {
     "name": "stdout",
     "output_type": "stream",
     "text": [
      "file_list: ['.ipynb_checkpoints', 'sentenceclassification.ipynb', 'sentenceclassification.py', '__pycache__']\n"
     ]
    }
   ],
   "source": [
    "from fastapi import FastAPI\n",
    "import domain\n",
    "import os\n",
    "\n",
    "path = \"domain\"\n",
    "file_list = os.listdir(path)\n",
    "print (\"file_list: {}\".format(file_list))\n",
    "from domain import sentenceclassification\n",
    "app = FastAPI()\n",
    "app.include_router(sentenceclassification.router)"
   ]
  },
  {
   "cell_type": "code",
   "execution_count": null,
   "id": "a75b4a18-83fa-44ca-ae4d-563c8d8e1e95",
   "metadata": {},
   "outputs": [],
   "source": []
  }
 ],
 "metadata": {
  "kernelspec": {
   "display_name": "Python 3 (ipykernel)",
   "language": "python",
   "name": "python3"
  },
  "language_info": {
   "codemirror_mode": {
    "name": "ipython",
    "version": 3
   },
   "file_extension": ".py",
   "mimetype": "text/x-python",
   "name": "python",
   "nbconvert_exporter": "python",
   "pygments_lexer": "ipython3",
   "version": "3.10.12"
  }
 },
 "nbformat": 4,
 "nbformat_minor": 5
}
