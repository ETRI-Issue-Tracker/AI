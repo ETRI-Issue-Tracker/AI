{
 "cells": [
  {
   "cell_type": "code",
   "execution_count": 10,
   "id": "4ece6193-9080-49d2-924b-ab2b31f0f5ae",
   "metadata": {},
   "outputs": [
    {
     "name": "stdout",
     "output_type": "stream",
     "text": [
      "file_list: ['.ipynb_checkpoints', 'sentenceclassification.ipynb', 'sentenceclassification.py']\n"
     ]
    },
    {
     "name": "stderr",
     "output_type": "stream",
     "text": [
      "/home/jeon/anaconda3/envs/etri/lib/python3.10/site-packages/tqdm/auto.py:21: TqdmWarning: IProgress not found. Please update jupyter and ipywidgets. See https://ipywidgets.readthedocs.io/en/stable/user_install.html\n",
      "  from .autonotebook import tqdm as notebook_tqdm\n",
      "The tokenizer class you load from this checkpoint is not the same type as the class this function is called from. It may result in unexpected tokenization. \n",
      "The tokenizer class you load from this checkpoint is 'XLNetTokenizer'. \n",
      "The class this function is called from is 'KoBERTTokenizer'.\n"
     ]
    },
    {
     "name": "stdin",
     "output_type": "stream",
     "text": [
      "하고싶은 말을 입력해주세요 :  안녕하세요?\n"
     ]
    },
    {
     "name": "stdout",
     "output_type": "stream",
     "text": [
      "안녕하세요?\n"
     ]
    }
   ],
   "source": [
    "from fastapi import FastAPI\n",
    "import domain\n",
    "import os\n",
    "\n",
    "path = \"domain\"\n",
    "file_list = os.listdir(path)\n",
    "print (\"file_list: {}\".format(file_list))\n",
    "from domain import sentenceclassification\n",
    "app = FastAPI()\n",
    "app.include_router(sentenceclassfication.router)"
   ]
  },
  {
   "cell_type": "code",
   "execution_count": null,
   "id": "a75b4a18-83fa-44ca-ae4d-563c8d8e1e95",
   "metadata": {},
   "outputs": [],
   "source": []
  }
 ],
 "metadata": {
  "kernelspec": {
   "display_name": "Python 3 (ipykernel)",
   "language": "python",
   "name": "python3"
  },
  "language_info": {
   "codemirror_mode": {
    "name": "ipython",
    "version": 3
   },
   "file_extension": ".py",
   "mimetype": "text/x-python",
   "name": "python",
   "nbconvert_exporter": "python",
   "pygments_lexer": "ipython3",
   "version": "3.10.12"
  }
 },
 "nbformat": 4,
 "nbformat_minor": 5
}
